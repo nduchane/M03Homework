{
 "cells": [
  {
   "cell_type": "markdown",
   "id": "b6ba37b3",
   "metadata": {},
   "source": [
    "Nicholas DuChane"
   ]
  },
  {
   "cell_type": "markdown",
   "id": "df09e9ab",
   "metadata": {},
   "source": [
    "M03Homework7.7"
   ]
  },
  {
   "cell_type": "markdown",
   "id": "5d72052c",
   "metadata": {},
   "source": [
    "7.7 Delete the disease element from things, collect your Nobel Prize, and print the list."
   ]
  },
  {
   "cell_type": "code",
   "execution_count": 1,
   "id": "606f830c",
   "metadata": {},
   "outputs": [],
   "source": [
    "things= [\"mozzarella\", \"cinderella\", \"salmonella\"]"
   ]
  },
  {
   "cell_type": "code",
   "execution_count": 2,
   "id": "04e165b3",
   "metadata": {},
   "outputs": [
    {
     "data": {
      "text/plain": [
       "'salmonella'"
      ]
     },
     "execution_count": 2,
     "metadata": {},
     "output_type": "execute_result"
    }
   ],
   "source": [
    "things.pop()"
   ]
  },
  {
   "cell_type": "code",
   "execution_count": 3,
   "id": "d5618a3b",
   "metadata": {},
   "outputs": [
    {
     "data": {
      "text/plain": [
       "['mozzarella', 'cinderella']"
      ]
     },
     "execution_count": 3,
     "metadata": {},
     "output_type": "execute_result"
    }
   ],
   "source": [
    "things"
   ]
  },
  {
   "cell_type": "code",
   "execution_count": null,
   "id": "44e72fec",
   "metadata": {},
   "outputs": [],
   "source": []
  }
 ],
 "metadata": {
  "kernelspec": {
   "display_name": "Python 3 (ipykernel)",
   "language": "python",
   "name": "python3"
  },
  "language_info": {
   "codemirror_mode": {
    "name": "ipython",
    "version": 3
   },
   "file_extension": ".py",
   "mimetype": "text/x-python",
   "name": "python",
   "nbconvert_exporter": "python",
   "pygments_lexer": "ipython3",
   "version": "3.9.12"
  }
 },
 "nbformat": 4,
 "nbformat_minor": 5
}
